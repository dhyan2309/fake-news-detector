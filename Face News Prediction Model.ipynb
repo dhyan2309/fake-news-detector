{
 "cells": [
  {
   "cell_type": "code",
   "execution_count": 1,
   "id": "5c5bcd21",
   "metadata": {},
   "outputs": [],
   "source": [
    "import numpy as np\n",
    "import re\n",
    "import pandas as pd\n",
    "from nltk.corpus import stopwords\n",
    "from nltk.stem.porter import PorterStemmer\n",
    "from sklearn.feature_extraction.text import TfidfVectorizer\n",
    "from sklearn.model_selection import train_test_split\n",
    "from sklearn.linear_model import LogisticRegression\n",
    "from sklearn.metrics import accuracy_score"
   ]
  },
  {
   "cell_type": "code",
   "execution_count": 32,
   "id": "e205be1f",
   "metadata": {},
   "outputs": [],
   "source": [
    "news_df = pd.read_csv('train.csv.json')"
   ]
  },
  {
   "cell_type": "code",
   "execution_count": 43,
   "id": "d64ec0d0",
   "metadata": {},
   "outputs": [
    {
     "data": {
      "text/html": [
       "<div>\n",
       "<style scoped>\n",
       "    .dataframe tbody tr th:only-of-type {\n",
       "        vertical-align: middle;\n",
       "    }\n",
       "\n",
       "    .dataframe tbody tr th {\n",
       "        vertical-align: top;\n",
       "    }\n",
       "\n",
       "    .dataframe thead th {\n",
       "        text-align: right;\n",
       "    }\n",
       "</style>\n",
       "<table border=\"1\" class=\"dataframe\">\n",
       "  <thead>\n",
       "    <tr style=\"text-align: right;\">\n",
       "      <th></th>\n",
       "      <th>{\"@context\":{\"@language\":\"en\"</th>\n",
       "      <th>@vocab:\"https://schema.org/\"</th>\n",
       "      <th>citeAs:\"cr:citeAs\"</th>\n",
       "      <th>column:\"cr:column\"</th>\n",
       "      <th>conformsTo:\"dct:conformsTo\"</th>\n",
       "      <th>cr:\"http://mlcommons.org/croissant/\"</th>\n",
       "      <th>data:{\"@id\":\"cr:data\"</th>\n",
       "      <th>@type:\"@json\"}</th>\n",
       "      <th>dataBiases:\"cr:dataBiases\"</th>\n",
       "      <th>dataCollection:\"cr:dataCollection\"</th>\n",
       "      <th>...</th>\n",
       "      <th>name:\"Kaggle\".1</th>\n",
       "      <th>url:\"https://www.kaggle.com/organizations/kaggle\"</th>\n",
       "      <th>image:\"https://storage.googleapis.com/kaggle-organizations/4/thumbnail.png\"}</th>\n",
       "      <th>thumbnailUrl:\"https://storage.googleapis.com/kaggle-datasets-images/new-version-temp-images/default-backgrounds-67.png-13209942/dataset-card.png\"</th>\n",
       "      <th>dateModified:\"2024-04-25T15:21:59.793\"</th>\n",
       "      <th>datePublished:\"2024-04-25T15:21:59.793\"</th>\n",
       "      <th>@type:\"sc:Dataset\"</th>\n",
       "      <th>name:\"Scam Detection | Fake News Labelled  Dataset\"</th>\n",
       "      <th>url:\"https://www.kaggle.com/datasets/noorsaeed/scam-detection-fake-news-labelled-dataset/versions/1\"</th>\n",
       "      <th>description:\"\"}</th>\n",
       "    </tr>\n",
       "  </thead>\n",
       "  <tbody>\n",
       "  </tbody>\n",
       "</table>\n",
       "<p>0 rows × 112 columns</p>\n",
       "</div>"
      ],
      "text/plain": [
       "Empty DataFrame\n",
       "Columns: [{\"@context\":{\"@language\":\"en\", @vocab:\"https://schema.org/\", citeAs:\"cr:citeAs\", column:\"cr:column\", conformsTo:\"dct:conformsTo\", cr:\"http://mlcommons.org/croissant/\", data:{\"@id\":\"cr:data\", @type:\"@json\"}, dataBiases:\"cr:dataBiases\", dataCollection:\"cr:dataCollection\", dataType:{\"@id\":\"cr:dataType\", @type:\"@vocab\"}, dct:\"http://purl.org/dc/terms/\", extract:\"cr:extract\", field:\"cr:field\", fileProperty:\"cr:fileProperty\", fileObject:\"cr:fileObject\", fileSet:\"cr:fileSet\", format:\"cr:format\", includes:\"cr:includes\", isEnumeration:\"cr:isEnumeration\", isLiveDataset:\"cr:isLiveDataset\", jsonPath:\"cr:jsonPath\", key:\"cr:key\", md5:\"cr:md5\", parentField:\"cr:parentField\", path:\"cr:path\", personalSensitiveInformation:\"cr:personalSensitiveInformation\", recordSet:\"cr:recordSet\", references:\"cr:references\", regex:\"cr:regex\", repeated:\"cr:repeated\", replace:\"cr:replace\", sc:\"https://schema.org/\", separator:\"cr:separator\", source:\"cr:source\", subField:\"cr:subField\", transform:\"cr:transform\", wd:\"https://www.wikidata.org/wiki/\"}, alternateName:\"\", conformsTo:\"http://mlcommons.org/croissant/1.0\", license:{\"@type\":\"sc:CreativeWork\", name:\"MIT\", url:\"https://www.mit.edu/~amini/LICENSE.md\"}, distribution:[{\"contentUrl\":\"https://www.kaggle.com/api/v1/datasets/download/noorsaeed/scam-detection-fake-news-labelled-dataset?datasetVersionNumber=1\", contentSize:\"37.041 MB\", md5:\"16oFVnZcP1GVTXvRBatVJQ==\", encodingFormat:\"application/zip\", @id:\"archive.zip\", @type:\"cr:FileObject\", name:\"archive.zip\", description:\"Archive containing all the contents of the Scam Detection | Fake News Labelled  Dataset dataset\"}, {\"contentUrl\":\"train.csv\", containedIn:{\"@id\":\"archive.zip\"}, encodingFormat:\"text/csv\", @id:\"train.csv_fileobject\", @type:\"cr:FileObject\".1, name:\"train.csv\"}], recordSet:[{\"field\":[{\"dataType\":[\"sc:Text\"], source:{\"fileObject\":{\"@id\":\"train.csv_fileobject\"}, extract:{\"column\":\"id\"}}, @id:\"train.csv/id\", @type:\"cr:Field\", name:\"id\"}, {\"dataType\":[\"sc:Text\"], source:{\"fileObject\":{\"@id\":\"train.csv_fileobject\"}.1, extract:{\"column\":\"title\"}}, @id:\"train.csv/title\", @type:\"cr:Field\".1, name:\"title\"}, {\"dataType\":[\"sc:Text\"].1, source:{\"fileObject\":{\"@id\":\"train.csv_fileobject\"}.2, extract:{\"column\":\"author\"}}, @id:\"train.csv/author\", @type:\"cr:Field\".2, name:\"author\"}, {\"dataType\":[\"sc:Text\"].2, source:{\"fileObject\":{\"@id\":\"train.csv_fileobject\"}.3, extract:{\"column\":\"text\"}}, @id:\"train.csv/text\", @type:\"cr:Field\".3, name:\"text\"}, {\"dataType\":[\"sc:Integer\"], source:{\"fileObject\":{\"@id\":\"train.csv_fileobject\"}.4, extract:{\"column\":\"label\"}}, @id:\"train.csv/label\", @type:\"cr:Field\".4, name:\"label\"}], @id:\"train.csv\", @type:\"cr:RecordSet\", name:\"train.csv\"}].1, version:1, keywords:[], isAccessibleForFree:true, includedInDataCatalog:{\"@type\":\"sc:DataCatalog\", name:\"Kaggle\", url:\"https://www.kaggle.com\"}, creator:{\"@type\":\"sc:Person\", name:\"Noor Saeed\", url:\"/noorsaeed\", ...]\n",
       "Index: []\n",
       "\n",
       "[0 rows x 112 columns]"
      ]
     },
     "execution_count": 43,
     "metadata": {},
     "output_type": "execute_result"
    }
   ],
   "source": [
    "news_df.head()"
   ]
  },
  {
   "cell_type": "markdown",
   "id": "5a79c331",
   "metadata": {},
   "source": [
    "# About the Dataset:\n",
    "\n",
    "id: unique id for a news article                                     \n",
    "title: the title of a news article                                  \n",
    "author: author of the news article                                    \n",
    "text: the text of the article; could be incomplete                                        \n",
    "label: a label that marks whether the news article is real or fake:                              \n",
    "    1: Fake news                                                 \n",
    "    0: real News                                        "
   ]
  },
  {
   "cell_type": "markdown",
   "id": "2148a04e",
   "metadata": {},
   "source": [
    "# 1 Preprocessing "
   ]
  },
  {
   "cell_type": "code",
   "execution_count": 34,
   "id": "80b053d5",
   "metadata": {},
   "outputs": [
    {
     "data": {
      "text/plain": [
       "{\"@context\":{\"@language\":\"en\"                                                                           0\n",
       "@vocab:\"https://schema.org/\"                                                                            0\n",
       "citeAs:\"cr:citeAs\"                                                                                      0\n",
       "column:\"cr:column\"                                                                                      0\n",
       "conformsTo:\"dct:conformsTo\"                                                                             0\n",
       "                                                                                                       ..\n",
       "datePublished:\"2024-04-25T15:21:59.793\"                                                                 0\n",
       "@type:\"sc:Dataset\"                                                                                      0\n",
       "name:\"Scam Detection | Fake News Labelled  Dataset\"                                                     0\n",
       "url:\"https://www.kaggle.com/datasets/noorsaeed/scam-detection-fake-news-labelled-dataset/versions/1\"    0\n",
       "description:\"\"}                                                                                         0\n",
       "Length: 112, dtype: int64"
      ]
     },
     "execution_count": 34,
     "metadata": {},
     "output_type": "execute_result"
    }
   ],
   "source": [
    "news_df.isnull().sum()"
   ]
  },
  {
   "cell_type": "code",
   "execution_count": 35,
   "id": "5ab108cd",
   "metadata": {},
   "outputs": [
    {
     "data": {
      "text/plain": [
       "(0, 112)"
      ]
     },
     "execution_count": 35,
     "metadata": {},
     "output_type": "execute_result"
    }
   ],
   "source": [
    "news_df.shape"
   ]
  },
  {
   "cell_type": "code",
   "execution_count": 36,
   "id": "286eb295",
   "metadata": {},
   "outputs": [],
   "source": [
    "news_df = news_df.fillna(' ')"
   ]
  },
  {
   "cell_type": "code",
   "execution_count": 37,
   "id": "94cb67ce",
   "metadata": {},
   "outputs": [
    {
     "data": {
      "text/plain": [
       "{\"@context\":{\"@language\":\"en\"                                                                           0\n",
       "@vocab:\"https://schema.org/\"                                                                            0\n",
       "citeAs:\"cr:citeAs\"                                                                                      0\n",
       "column:\"cr:column\"                                                                                      0\n",
       "conformsTo:\"dct:conformsTo\"                                                                             0\n",
       "                                                                                                       ..\n",
       "datePublished:\"2024-04-25T15:21:59.793\"                                                                 0\n",
       "@type:\"sc:Dataset\"                                                                                      0\n",
       "name:\"Scam Detection | Fake News Labelled  Dataset\"                                                     0\n",
       "url:\"https://www.kaggle.com/datasets/noorsaeed/scam-detection-fake-news-labelled-dataset/versions/1\"    0\n",
       "description:\"\"}                                                                                         0\n",
       "Length: 112, dtype: int64"
      ]
     },
     "execution_count": 37,
     "metadata": {},
     "output_type": "execute_result"
    }
   ],
   "source": [
    "news_df.isnull().sum()"
   ]
  },
  {
   "cell_type": "code",
   "execution_count": 63,
   "id": "3d787683",
   "metadata": {},
   "outputs": [
    {
     "name": "stdout",
     "output_type": "stream",
     "text": [
      "Available columns: []\n",
      "Empty DataFrame\n",
      "Columns: []\n",
      "Index: []\n"
     ]
    }
   ],
   "source": [
    "expected_cols = ['author', 'title', 'content']\n",
    "available_cols = [col for col in expected_cols if col in news_df.columns]\n",
    "\n",
    "print(\"Available columns:\", available_cols)\n",
    "print(news_df[available_cols].head())\n"
   ]
  },
  {
   "cell_type": "code",
   "execution_count": 64,
   "id": "e399192b",
   "metadata": {},
   "outputs": [
    {
     "data": {
      "text/html": [
       "<div>\n",
       "<style scoped>\n",
       "    .dataframe tbody tr th:only-of-type {\n",
       "        vertical-align: middle;\n",
       "    }\n",
       "\n",
       "    .dataframe tbody tr th {\n",
       "        vertical-align: top;\n",
       "    }\n",
       "\n",
       "    .dataframe thead th {\n",
       "        text-align: right;\n",
       "    }\n",
       "</style>\n",
       "<table border=\"1\" class=\"dataframe\">\n",
       "  <thead>\n",
       "    <tr style=\"text-align: right;\">\n",
       "      <th></th>\n",
       "      <th>{\"@context\":{\"@language\":\"en\"</th>\n",
       "      <th>@vocab:\"https://schema.org/\"</th>\n",
       "      <th>citeAs:\"cr:citeAs\"</th>\n",
       "      <th>column:\"cr:column\"</th>\n",
       "      <th>conformsTo:\"dct:conformsTo\"</th>\n",
       "      <th>cr:\"http://mlcommons.org/croissant/\"</th>\n",
       "      <th>data:{\"@id\":\"cr:data\"</th>\n",
       "      <th>@type:\"@json\"}</th>\n",
       "      <th>dataBiases:\"cr:dataBiases\"</th>\n",
       "      <th>dataCollection:\"cr:dataCollection\"</th>\n",
       "      <th>...</th>\n",
       "      <th>name:\"Kaggle\".1</th>\n",
       "      <th>url:\"https://www.kaggle.com/organizations/kaggle\"</th>\n",
       "      <th>image:\"https://storage.googleapis.com/kaggle-organizations/4/thumbnail.png\"}</th>\n",
       "      <th>thumbnailUrl:\"https://storage.googleapis.com/kaggle-datasets-images/new-version-temp-images/default-backgrounds-67.png-13209942/dataset-card.png\"</th>\n",
       "      <th>dateModified:\"2024-04-25T15:21:59.793\"</th>\n",
       "      <th>datePublished:\"2024-04-25T15:21:59.793\"</th>\n",
       "      <th>@type:\"sc:Dataset\"</th>\n",
       "      <th>name:\"Scam Detection | Fake News Labelled  Dataset\"</th>\n",
       "      <th>url:\"https://www.kaggle.com/datasets/noorsaeed/scam-detection-fake-news-labelled-dataset/versions/1\"</th>\n",
       "      <th>description:\"\"}</th>\n",
       "    </tr>\n",
       "  </thead>\n",
       "  <tbody>\n",
       "  </tbody>\n",
       "</table>\n",
       "<p>0 rows × 112 columns</p>\n",
       "</div>"
      ],
      "text/plain": [
       "Empty DataFrame\n",
       "Columns: [{\"@context\":{\"@language\":\"en\", @vocab:\"https://schema.org/\", citeAs:\"cr:citeAs\", column:\"cr:column\", conformsTo:\"dct:conformsTo\", cr:\"http://mlcommons.org/croissant/\", data:{\"@id\":\"cr:data\", @type:\"@json\"}, dataBiases:\"cr:dataBiases\", dataCollection:\"cr:dataCollection\", dataType:{\"@id\":\"cr:dataType\", @type:\"@vocab\"}, dct:\"http://purl.org/dc/terms/\", extract:\"cr:extract\", field:\"cr:field\", fileProperty:\"cr:fileProperty\", fileObject:\"cr:fileObject\", fileSet:\"cr:fileSet\", format:\"cr:format\", includes:\"cr:includes\", isEnumeration:\"cr:isEnumeration\", isLiveDataset:\"cr:isLiveDataset\", jsonPath:\"cr:jsonPath\", key:\"cr:key\", md5:\"cr:md5\", parentField:\"cr:parentField\", path:\"cr:path\", personalSensitiveInformation:\"cr:personalSensitiveInformation\", recordSet:\"cr:recordSet\", references:\"cr:references\", regex:\"cr:regex\", repeated:\"cr:repeated\", replace:\"cr:replace\", sc:\"https://schema.org/\", separator:\"cr:separator\", source:\"cr:source\", subField:\"cr:subField\", transform:\"cr:transform\", wd:\"https://www.wikidata.org/wiki/\"}, alternateName:\"\", conformsTo:\"http://mlcommons.org/croissant/1.0\", license:{\"@type\":\"sc:CreativeWork\", name:\"MIT\", url:\"https://www.mit.edu/~amini/LICENSE.md\"}, distribution:[{\"contentUrl\":\"https://www.kaggle.com/api/v1/datasets/download/noorsaeed/scam-detection-fake-news-labelled-dataset?datasetVersionNumber=1\", contentSize:\"37.041 MB\", md5:\"16oFVnZcP1GVTXvRBatVJQ==\", encodingFormat:\"application/zip\", @id:\"archive.zip\", @type:\"cr:FileObject\", name:\"archive.zip\", description:\"Archive containing all the contents of the Scam Detection | Fake News Labelled  Dataset dataset\"}, {\"contentUrl\":\"train.csv\", containedIn:{\"@id\":\"archive.zip\"}, encodingFormat:\"text/csv\", @id:\"train.csv_fileobject\", @type:\"cr:FileObject\".1, name:\"train.csv\"}], recordSet:[{\"field\":[{\"dataType\":[\"sc:Text\"], source:{\"fileObject\":{\"@id\":\"train.csv_fileobject\"}, extract:{\"column\":\"id\"}}, @id:\"train.csv/id\", @type:\"cr:Field\", name:\"id\"}, {\"dataType\":[\"sc:Text\"], source:{\"fileObject\":{\"@id\":\"train.csv_fileobject\"}.1, extract:{\"column\":\"title\"}}, @id:\"train.csv/title\", @type:\"cr:Field\".1, name:\"title\"}, {\"dataType\":[\"sc:Text\"].1, source:{\"fileObject\":{\"@id\":\"train.csv_fileobject\"}.2, extract:{\"column\":\"author\"}}, @id:\"train.csv/author\", @type:\"cr:Field\".2, name:\"author\"}, {\"dataType\":[\"sc:Text\"].2, source:{\"fileObject\":{\"@id\":\"train.csv_fileobject\"}.3, extract:{\"column\":\"text\"}}, @id:\"train.csv/text\", @type:\"cr:Field\".3, name:\"text\"}, {\"dataType\":[\"sc:Integer\"], source:{\"fileObject\":{\"@id\":\"train.csv_fileobject\"}.4, extract:{\"column\":\"label\"}}, @id:\"train.csv/label\", @type:\"cr:Field\".4, name:\"label\"}], @id:\"train.csv\", @type:\"cr:RecordSet\", name:\"train.csv\"}].1, version:1, keywords:[], isAccessibleForFree:true, includedInDataCatalog:{\"@type\":\"sc:DataCatalog\", name:\"Kaggle\", url:\"https://www.kaggle.com\"}, creator:{\"@type\":\"sc:Person\", name:\"Noor Saeed\", url:\"/noorsaeed\", ...]\n",
       "Index: []\n",
       "\n",
       "[0 rows x 112 columns]"
      ]
     },
     "execution_count": 64,
     "metadata": {},
     "output_type": "execute_result"
    }
   ],
   "source": [
    "news_df"
   ]
  },
  {
   "cell_type": "markdown",
   "id": "a5cb5a30",
   "metadata": {},
   "source": [
    "# separating the data & label"
   ]
  },
  {
   "cell_type": "code",
   "execution_count": 68,
   "id": "bc35715c",
   "metadata": {},
   "outputs": [],
   "source": [
    "news_df.columns = news_df.columns.str.strip()\n",
    "\n"
   ]
  },
  {
   "cell_type": "code",
   "execution_count": 70,
   "id": "9196cb1f",
   "metadata": {},
   "outputs": [
    {
     "name": "stdout",
     "output_type": "stream",
     "text": [
      "['{\"@context\":{\"@language\":\"en\"', '@vocab:\"https://schema.org/\"', 'citeAs:\"cr:citeAs\"', 'column:\"cr:column\"', 'conformsTo:\"dct:conformsTo\"', 'cr:\"http://mlcommons.org/croissant/\"', 'data:{\"@id\":\"cr:data\"', '@type:\"@json\"}', 'dataBiases:\"cr:dataBiases\"', 'dataCollection:\"cr:dataCollection\"', 'dataType:{\"@id\":\"cr:dataType\"', '@type:\"@vocab\"}', 'dct:\"http://purl.org/dc/terms/\"', 'extract:\"cr:extract\"', 'field:\"cr:field\"', 'fileProperty:\"cr:fileProperty\"', 'fileObject:\"cr:fileObject\"', 'fileSet:\"cr:fileSet\"', 'format:\"cr:format\"', 'includes:\"cr:includes\"', 'isEnumeration:\"cr:isEnumeration\"', 'isLiveDataset:\"cr:isLiveDataset\"', 'jsonPath:\"cr:jsonPath\"', 'key:\"cr:key\"', 'md5:\"cr:md5\"', 'parentField:\"cr:parentField\"', 'path:\"cr:path\"', 'personalSensitiveInformation:\"cr:personalSensitiveInformation\"', 'recordSet:\"cr:recordSet\"', 'references:\"cr:references\"', 'regex:\"cr:regex\"', 'repeated:\"cr:repeated\"', 'replace:\"cr:replace\"', 'sc:\"https://schema.org/\"', 'separator:\"cr:separator\"', 'source:\"cr:source\"', 'subField:\"cr:subField\"', 'transform:\"cr:transform\"', 'wd:\"https://www.wikidata.org/wiki/\"}', 'alternateName:\"\"', 'conformsTo:\"http://mlcommons.org/croissant/1.0\"', 'license:{\"@type\":\"sc:CreativeWork\"', 'name:\"MIT\"', 'url:\"https://www.mit.edu/~amini/LICENSE.md\"}', 'distribution:[{\"contentUrl\":\"https://www.kaggle.com/api/v1/datasets/download/noorsaeed/scam-detection-fake-news-labelled-dataset?datasetVersionNumber=1\"', 'contentSize:\"37.041 MB\"', 'md5:\"16oFVnZcP1GVTXvRBatVJQ==\"', 'encodingFormat:\"application/zip\"', '@id:\"archive.zip\"', '@type:\"cr:FileObject\"', 'name:\"archive.zip\"', 'description:\"Archive containing all the contents of the Scam Detection | Fake News Labelled  Dataset dataset\"}', '{\"contentUrl\":\"train.csv\"', 'containedIn:{\"@id\":\"archive.zip\"}', 'encodingFormat:\"text/csv\"', '@id:\"train.csv_fileobject\"', '@type:\"cr:FileObject\".1', 'name:\"train.csv\"}]', 'recordSet:[{\"field\":[{\"dataType\":[\"sc:Text\"]', 'source:{\"fileObject\":{\"@id\":\"train.csv_fileobject\"}', 'extract:{\"column\":\"id\"}}', '@id:\"train.csv/id\"', '@type:\"cr:Field\"', 'name:\"id\"}', '{\"dataType\":[\"sc:Text\"]', 'source:{\"fileObject\":{\"@id\":\"train.csv_fileobject\"}.1', 'extract:{\"column\":\"title\"}}', '@id:\"train.csv/title\"', '@type:\"cr:Field\".1', 'name:\"title\"}', '{\"dataType\":[\"sc:Text\"].1', 'source:{\"fileObject\":{\"@id\":\"train.csv_fileobject\"}.2', 'extract:{\"column\":\"author\"}}', '@id:\"train.csv/author\"', '@type:\"cr:Field\".2', 'name:\"author\"}', '{\"dataType\":[\"sc:Text\"].2', 'source:{\"fileObject\":{\"@id\":\"train.csv_fileobject\"}.3', 'extract:{\"column\":\"text\"}}', '@id:\"train.csv/text\"', '@type:\"cr:Field\".3', 'name:\"text\"}', '{\"dataType\":[\"sc:Integer\"]', 'source:{\"fileObject\":{\"@id\":\"train.csv_fileobject\"}.4', 'extract:{\"column\":\"label\"}}', '@id:\"train.csv/label\"', '@type:\"cr:Field\".4', 'name:\"label\"}]', '@id:\"train.csv\"', '@type:\"cr:RecordSet\"', 'name:\"train.csv\"}].1', 'version:1', 'keywords:[]', 'isAccessibleForFree:true', 'includedInDataCatalog:{\"@type\":\"sc:DataCatalog\"', 'name:\"Kaggle\"', 'url:\"https://www.kaggle.com\"}', 'creator:{\"@type\":\"sc:Person\"', 'name:\"Noor Saeed\"', 'url:\"/noorsaeed\"', 'image:\"https://storage.googleapis.com/kaggle-avatars/thumbnails/13209942-kg.jpg?t=2024-04-11-07-28-34\"}', 'publisher:{\"@type\":\"sc:Organization\"', 'name:\"Kaggle\".1', 'url:\"https://www.kaggle.com/organizations/kaggle\"', 'image:\"https://storage.googleapis.com/kaggle-organizations/4/thumbnail.png\"}', 'thumbnailUrl:\"https://storage.googleapis.com/kaggle-datasets-images/new-version-temp-images/default-backgrounds-67.png-13209942/dataset-card.png\"', 'dateModified:\"2024-04-25T15:21:59.793\"', 'datePublished:\"2024-04-25T15:21:59.793\"', '@type:\"sc:Dataset\"', 'name:\"Scam Detection | Fake News Labelled  Dataset\"', 'url:\"https://www.kaggle.com/datasets/noorsaeed/scam-detection-fake-news-labelled-dataset/versions/1\"', 'description:\"\"}']\n"
     ]
    }
   ],
   "source": [
    "print(news_df.columns.tolist())\n"
   ]
  },
  {
   "cell_type": "markdown",
   "id": "a3579e9f",
   "metadata": {},
   "source": [
    "# Stemming:\n",
    "\n",
    "Stemming is the process of reducing a word to its Root word\n",
    "\n",
    "example: hung         hanged        hanging ======hang"
   ]
  },
  {
   "cell_type": "markdown",
   "id": "c4f4cba0",
   "metadata": {},
   "source": [
    "# Steps:\n",
    "lower case                 \n",
    "splitting                             \n",
    "removing stopwords                              \n",
    "stemming                                   "
   ]
  },
  {
   "cell_type": "code",
   "execution_count": 71,
   "id": "c8ef2a22",
   "metadata": {},
   "outputs": [],
   "source": [
    "ps = PorterStemmer()\n",
    "def stemming(content):\n",
    "    stemmed_content = re.sub('[^a-zA-Z]',' ',content)\n",
    "    stemmed_content = stemmed_content.lower()\n",
    "    stemmed_content = stemmed_content.split()\n",
    "    stemmed_content = [ps.stem(word) for word in stemmed_content if not word in stopwords.words('english')]\n",
    "    stemmed_content = ' '.join(stemmed_content)\n",
    "    return stemmed_content"
   ]
  },
  {
   "cell_type": "code",
   "execution_count": 73,
   "id": "1f1fd73c",
   "metadata": {},
   "outputs": [
    {
     "name": "stdout",
     "output_type": "stream",
     "text": [
      "['{\"@context\":{\"@language\":\"en\"', '@vocab:\"https://schema.org/\"', 'citeAs:\"cr:citeAs\"', 'column:\"cr:column\"', 'conformsTo:\"dct:conformsTo\"', 'cr:\"http://mlcommons.org/croissant/\"', 'data:{\"@id\":\"cr:data\"', '@type:\"@json\"}', 'dataBiases:\"cr:dataBiases\"', 'dataCollection:\"cr:dataCollection\"', 'dataType:{\"@id\":\"cr:dataType\"', '@type:\"@vocab\"}', 'dct:\"http://purl.org/dc/terms/\"', 'extract:\"cr:extract\"', 'field:\"cr:field\"', 'fileProperty:\"cr:fileProperty\"', 'fileObject:\"cr:fileObject\"', 'fileSet:\"cr:fileSet\"', 'format:\"cr:format\"', 'includes:\"cr:includes\"', 'isEnumeration:\"cr:isEnumeration\"', 'isLiveDataset:\"cr:isLiveDataset\"', 'jsonPath:\"cr:jsonPath\"', 'key:\"cr:key\"', 'md5:\"cr:md5\"', 'parentField:\"cr:parentField\"', 'path:\"cr:path\"', 'personalSensitiveInformation:\"cr:personalSensitiveInformation\"', 'recordSet:\"cr:recordSet\"', 'references:\"cr:references\"', 'regex:\"cr:regex\"', 'repeated:\"cr:repeated\"', 'replace:\"cr:replace\"', 'sc:\"https://schema.org/\"', 'separator:\"cr:separator\"', 'source:\"cr:source\"', 'subField:\"cr:subField\"', 'transform:\"cr:transform\"', 'wd:\"https://www.wikidata.org/wiki/\"}', 'alternateName:\"\"', 'conformsTo:\"http://mlcommons.org/croissant/1.0\"', 'license:{\"@type\":\"sc:CreativeWork\"', 'name:\"MIT\"', 'url:\"https://www.mit.edu/~amini/LICENSE.md\"}', 'distribution:[{\"contentUrl\":\"https://www.kaggle.com/api/v1/datasets/download/noorsaeed/scam-detection-fake-news-labelled-dataset?datasetVersionNumber=1\"', 'contentSize:\"37.041 MB\"', 'md5:\"16oFVnZcP1GVTXvRBatVJQ==\"', 'encodingFormat:\"application/zip\"', '@id:\"archive.zip\"', '@type:\"cr:FileObject\"', 'name:\"archive.zip\"', 'description:\"Archive containing all the contents of the Scam Detection | Fake News Labelled  Dataset dataset\"}', '{\"contentUrl\":\"train.csv\"', 'containedIn:{\"@id\":\"archive.zip\"}', 'encodingFormat:\"text/csv\"', '@id:\"train.csv_fileobject\"', '@type:\"cr:FileObject\".1', 'name:\"train.csv\"}]', 'recordSet:[{\"field\":[{\"dataType\":[\"sc:Text\"]', 'source:{\"fileObject\":{\"@id\":\"train.csv_fileobject\"}', 'extract:{\"column\":\"id\"}}', '@id:\"train.csv/id\"', '@type:\"cr:Field\"', 'name:\"id\"}', '{\"dataType\":[\"sc:Text\"]', 'source:{\"fileObject\":{\"@id\":\"train.csv_fileobject\"}.1', 'extract:{\"column\":\"title\"}}', '@id:\"train.csv/title\"', '@type:\"cr:Field\".1', 'name:\"title\"}', '{\"dataType\":[\"sc:Text\"].1', 'source:{\"fileObject\":{\"@id\":\"train.csv_fileobject\"}.2', 'extract:{\"column\":\"author\"}}', '@id:\"train.csv/author\"', '@type:\"cr:Field\".2', 'name:\"author\"}', '{\"dataType\":[\"sc:Text\"].2', 'source:{\"fileObject\":{\"@id\":\"train.csv_fileobject\"}.3', 'extract:{\"column\":\"text\"}}', '@id:\"train.csv/text\"', '@type:\"cr:Field\".3', 'name:\"text\"}', '{\"dataType\":[\"sc:Integer\"]', 'source:{\"fileObject\":{\"@id\":\"train.csv_fileobject\"}.4', 'extract:{\"column\":\"label\"}}', '@id:\"train.csv/label\"', '@type:\"cr:Field\".4', 'name:\"label\"}]', '@id:\"train.csv\"', '@type:\"cr:RecordSet\"', 'name:\"train.csv\"}].1', 'version:1', 'keywords:[]', 'isAccessibleForFree:true', 'includedInDataCatalog:{\"@type\":\"sc:DataCatalog\"', 'name:\"Kaggle\"', 'url:\"https://www.kaggle.com\"}', 'creator:{\"@type\":\"sc:Person\"', 'name:\"Noor Saeed\"', 'url:\"/noorsaeed\"', 'image:\"https://storage.googleapis.com/kaggle-avatars/thumbnails/13209942-kg.jpg?t=2024-04-11-07-28-34\"}', 'publisher:{\"@type\":\"sc:Organization\"', 'name:\"Kaggle\".1', 'url:\"https://www.kaggle.com/organizations/kaggle\"', 'image:\"https://storage.googleapis.com/kaggle-organizations/4/thumbnail.png\"}', 'thumbnailUrl:\"https://storage.googleapis.com/kaggle-datasets-images/new-version-temp-images/default-backgrounds-67.png-13209942/dataset-card.png\"', 'dateModified:\"2024-04-25T15:21:59.793\"', 'datePublished:\"2024-04-25T15:21:59.793\"', '@type:\"sc:Dataset\"', 'name:\"Scam Detection | Fake News Labelled  Dataset\"', 'url:\"https://www.kaggle.com/datasets/noorsaeed/scam-detection-fake-news-labelled-dataset/versions/1\"', 'description:\"\"}']\n"
     ]
    }
   ],
   "source": [
    "# Clean column names\n",
    "news_df.columns = news_df.columns.str.strip()\n",
    "\n",
    "# Check all columns\n",
    "print(news_df.columns.tolist())\n",
    "\n",
    "# Then update this line based on actual column name:\n",
    "# news_df['content'] = news_df['content'].apply(stemming)\n"
   ]
  },
  {
   "cell_type": "code",
   "execution_count": 75,
   "id": "70e553da",
   "metadata": {},
   "outputs": [
    {
     "name": "stdout",
     "output_type": "stream",
     "text": [
      "['{\"@context\":{\"@language\":\"en\"', '@vocab:\"https://schema.org/\"', 'citeAs:\"cr:citeAs\"', 'column:\"cr:column\"', 'conformsTo:\"dct:conformsTo\"', 'cr:\"http://mlcommons.org/croissant/\"', 'data:{\"@id\":\"cr:data\"', '@type:\"@json\"}', 'dataBiases:\"cr:dataBiases\"', 'dataCollection:\"cr:dataCollection\"', 'dataType:{\"@id\":\"cr:dataType\"', '@type:\"@vocab\"}', 'dct:\"http://purl.org/dc/terms/\"', 'extract:\"cr:extract\"', 'field:\"cr:field\"', 'fileProperty:\"cr:fileProperty\"', 'fileObject:\"cr:fileObject\"', 'fileSet:\"cr:fileSet\"', 'format:\"cr:format\"', 'includes:\"cr:includes\"', 'isEnumeration:\"cr:isEnumeration\"', 'isLiveDataset:\"cr:isLiveDataset\"', 'jsonPath:\"cr:jsonPath\"', 'key:\"cr:key\"', 'md5:\"cr:md5\"', 'parentField:\"cr:parentField\"', 'path:\"cr:path\"', 'personalSensitiveInformation:\"cr:personalSensitiveInformation\"', 'recordSet:\"cr:recordSet\"', 'references:\"cr:references\"', 'regex:\"cr:regex\"', 'repeated:\"cr:repeated\"', 'replace:\"cr:replace\"', 'sc:\"https://schema.org/\"', 'separator:\"cr:separator\"', 'source:\"cr:source\"', 'subField:\"cr:subField\"', 'transform:\"cr:transform\"', 'wd:\"https://www.wikidata.org/wiki/\"}', 'alternateName:\"\"', 'conformsTo:\"http://mlcommons.org/croissant/1.0\"', 'license:{\"@type\":\"sc:CreativeWork\"', 'name:\"MIT\"', 'url:\"https://www.mit.edu/~amini/LICENSE.md\"}', 'distribution:[{\"contentUrl\":\"https://www.kaggle.com/api/v1/datasets/download/noorsaeed/scam-detection-fake-news-labelled-dataset?datasetVersionNumber=1\"', 'contentSize:\"37.041 MB\"', 'md5:\"16oFVnZcP1GVTXvRBatVJQ==\"', 'encodingFormat:\"application/zip\"', '@id:\"archive.zip\"', '@type:\"cr:FileObject\"', 'name:\"archive.zip\"', 'description:\"Archive containing all the contents of the Scam Detection | Fake News Labelled  Dataset dataset\"}', '{\"contentUrl\":\"train.csv\"', 'containedIn:{\"@id\":\"archive.zip\"}', 'encodingFormat:\"text/csv\"', '@id:\"train.csv_fileobject\"', '@type:\"cr:FileObject\".1', 'name:\"train.csv\"}]', 'recordSet:[{\"field\":[{\"dataType\":[\"sc:Text\"]', 'source:{\"fileObject\":{\"@id\":\"train.csv_fileobject\"}', 'extract:{\"column\":\"id\"}}', '@id:\"train.csv/id\"', '@type:\"cr:Field\"', 'name:\"id\"}', '{\"dataType\":[\"sc:Text\"]', 'source:{\"fileObject\":{\"@id\":\"train.csv_fileobject\"}.1', 'extract:{\"column\":\"title\"}}', '@id:\"train.csv/title\"', '@type:\"cr:Field\".1', 'name:\"title\"}', '{\"dataType\":[\"sc:Text\"].1', 'source:{\"fileObject\":{\"@id\":\"train.csv_fileobject\"}.2', 'extract:{\"column\":\"author\"}}', '@id:\"train.csv/author\"', '@type:\"cr:Field\".2', 'name:\"author\"}', '{\"dataType\":[\"sc:Text\"].2', 'source:{\"fileObject\":{\"@id\":\"train.csv_fileobject\"}.3', 'extract:{\"column\":\"text\"}}', '@id:\"train.csv/text\"', '@type:\"cr:Field\".3', 'name:\"text\"}', '{\"dataType\":[\"sc:Integer\"]', 'source:{\"fileObject\":{\"@id\":\"train.csv_fileobject\"}.4', 'extract:{\"column\":\"label\"}}', '@id:\"train.csv/label\"', '@type:\"cr:Field\".4', 'name:\"label\"}]', '@id:\"train.csv\"', '@type:\"cr:RecordSet\"', 'name:\"train.csv\"}].1', 'version:1', 'keywords:[]', 'isAccessibleForFree:true', 'includedInDataCatalog:{\"@type\":\"sc:DataCatalog\"', 'name:\"Kaggle\"', 'url:\"https://www.kaggle.com\"}', 'creator:{\"@type\":\"sc:Person\"', 'name:\"Noor Saeed\"', 'url:\"/noorsaeed\"', 'image:\"https://storage.googleapis.com/kaggle-avatars/thumbnails/13209942-kg.jpg?t=2024-04-11-07-28-34\"}', 'publisher:{\"@type\":\"sc:Organization\"', 'name:\"Kaggle\".1', 'url:\"https://www.kaggle.com/organizations/kaggle\"', 'image:\"https://storage.googleapis.com/kaggle-organizations/4/thumbnail.png\"}', 'thumbnailUrl:\"https://storage.googleapis.com/kaggle-datasets-images/new-version-temp-images/default-backgrounds-67.png-13209942/dataset-card.png\"', 'dateModified:\"2024-04-25T15:21:59.793\"', 'datePublished:\"2024-04-25T15:21:59.793\"', '@type:\"sc:Dataset\"', 'name:\"Scam Detection | Fake News Labelled  Dataset\"', 'url:\"https://www.kaggle.com/datasets/noorsaeed/scam-detection-fake-news-labelled-dataset/versions/1\"', 'description:\"\"}']\n"
     ]
    }
   ],
   "source": [
    "print(news_df.columns.tolist())\n"
   ]
  },
  {
   "cell_type": "markdown",
   "id": "2a0f3325",
   "metadata": {},
   "source": [
    "# separating the data and label\n"
   ]
  },
  {
   "cell_type": "code",
   "execution_count": 77,
   "id": "d9fe53c2",
   "metadata": {},
   "outputs": [
    {
     "name": "stdout",
     "output_type": "stream",
     "text": [
      "['{\"@context\":{\"@language\":\"en\"', '@vocab:\"https://schema.org/\"', 'citeAs:\"cr:citeAs\"', 'column:\"cr:column\"', 'conformsTo:\"dct:conformsTo\"', 'cr:\"http://mlcommons.org/croissant/\"', 'data:{\"@id\":\"cr:data\"', '@type:\"@json\"}', 'dataBiases:\"cr:dataBiases\"', 'dataCollection:\"cr:dataCollection\"', 'dataType:{\"@id\":\"cr:dataType\"', '@type:\"@vocab\"}', 'dct:\"http://purl.org/dc/terms/\"', 'extract:\"cr:extract\"', 'field:\"cr:field\"', 'fileProperty:\"cr:fileProperty\"', 'fileObject:\"cr:fileObject\"', 'fileSet:\"cr:fileSet\"', 'format:\"cr:format\"', 'includes:\"cr:includes\"', 'isEnumeration:\"cr:isEnumeration\"', 'isLiveDataset:\"cr:isLiveDataset\"', 'jsonPath:\"cr:jsonPath\"', 'key:\"cr:key\"', 'md5:\"cr:md5\"', 'parentField:\"cr:parentField\"', 'path:\"cr:path\"', 'personalSensitiveInformation:\"cr:personalSensitiveInformation\"', 'recordSet:\"cr:recordSet\"', 'references:\"cr:references\"', 'regex:\"cr:regex\"', 'repeated:\"cr:repeated\"', 'replace:\"cr:replace\"', 'sc:\"https://schema.org/\"', 'separator:\"cr:separator\"', 'source:\"cr:source\"', 'subField:\"cr:subField\"', 'transform:\"cr:transform\"', 'wd:\"https://www.wikidata.org/wiki/\"}', 'alternateName:\"\"', 'conformsTo:\"http://mlcommons.org/croissant/1.0\"', 'license:{\"@type\":\"sc:CreativeWork\"', 'name:\"MIT\"', 'url:\"https://www.mit.edu/~amini/LICENSE.md\"}', 'distribution:[{\"contentUrl\":\"https://www.kaggle.com/api/v1/datasets/download/noorsaeed/scam-detection-fake-news-labelled-dataset?datasetVersionNumber=1\"', 'contentSize:\"37.041 MB\"', 'md5:\"16oFVnZcP1GVTXvRBatVJQ==\"', 'encodingFormat:\"application/zip\"', '@id:\"archive.zip\"', '@type:\"cr:FileObject\"', 'name:\"archive.zip\"', 'description:\"Archive containing all the contents of the Scam Detection | Fake News Labelled  Dataset dataset\"}', '{\"contentUrl\":\"train.csv\"', 'containedIn:{\"@id\":\"archive.zip\"}', 'encodingFormat:\"text/csv\"', '@id:\"train.csv_fileobject\"', '@type:\"cr:FileObject\".1', 'name:\"train.csv\"}]', 'recordSet:[{\"field\":[{\"dataType\":[\"sc:Text\"]', 'source:{\"fileObject\":{\"@id\":\"train.csv_fileobject\"}', 'extract:{\"column\":\"id\"}}', '@id:\"train.csv/id\"', '@type:\"cr:Field\"', 'name:\"id\"}', '{\"dataType\":[\"sc:Text\"]', 'source:{\"fileObject\":{\"@id\":\"train.csv_fileobject\"}.1', 'extract:{\"column\":\"title\"}}', '@id:\"train.csv/title\"', '@type:\"cr:Field\".1', 'name:\"title\"}', '{\"dataType\":[\"sc:Text\"].1', 'source:{\"fileObject\":{\"@id\":\"train.csv_fileobject\"}.2', 'extract:{\"column\":\"author\"}}', '@id:\"train.csv/author\"', '@type:\"cr:Field\".2', 'name:\"author\"}', '{\"dataType\":[\"sc:Text\"].2', 'source:{\"fileObject\":{\"@id\":\"train.csv_fileobject\"}.3', 'extract:{\"column\":\"text\"}}', '@id:\"train.csv/text\"', '@type:\"cr:Field\".3', 'name:\"text\"}', '{\"dataType\":[\"sc:Integer\"]', 'source:{\"fileObject\":{\"@id\":\"train.csv_fileobject\"}.4', 'extract:{\"column\":\"label\"}}', '@id:\"train.csv/label\"', '@type:\"cr:Field\".4', 'name:\"label\"}]', '@id:\"train.csv\"', '@type:\"cr:RecordSet\"', 'name:\"train.csv\"}].1', 'version:1', 'keywords:[]', 'isAccessibleForFree:true', 'includedInDataCatalog:{\"@type\":\"sc:DataCatalog\"', 'name:\"Kaggle\"', 'url:\"https://www.kaggle.com\"}', 'creator:{\"@type\":\"sc:Person\"', 'name:\"Noor Saeed\"', 'url:\"/noorsaeed\"', 'image:\"https://storage.googleapis.com/kaggle-avatars/thumbnails/13209942-kg.jpg?t=2024-04-11-07-28-34\"}', 'publisher:{\"@type\":\"sc:Organization\"', 'name:\"Kaggle\".1', 'url:\"https://www.kaggle.com/organizations/kaggle\"', 'image:\"https://storage.googleapis.com/kaggle-organizations/4/thumbnail.png\"}', 'thumbnailUrl:\"https://storage.googleapis.com/kaggle-datasets-images/new-version-temp-images/default-backgrounds-67.png-13209942/dataset-card.png\"', 'dateModified:\"2024-04-25T15:21:59.793\"', 'datePublished:\"2024-04-25T15:21:59.793\"', '@type:\"sc:Dataset\"', 'name:\"Scam Detection | Fake News Labelled  Dataset\"', 'url:\"https://www.kaggle.com/datasets/noorsaeed/scam-detection-fake-news-labelled-dataset/versions/1\"', 'description:\"\"}']\n"
     ]
    }
   ],
   "source": [
    "print(news_df.columns.tolist())\n"
   ]
  },
  {
   "cell_type": "markdown",
   "id": "f93b9984",
   "metadata": {},
   "source": [
    "# converting the textual data to numerical data"
   ]
  },
  {
   "cell_type": "code",
   "execution_count": 98,
   "id": "1abf344d",
   "metadata": {},
   "outputs": [
    {
     "ename": "KeyError",
     "evalue": "'content'",
     "output_type": "error",
     "traceback": [
      "\u001b[1;31m---------------------------------------------------------------------------\u001b[0m",
      "\u001b[1;31mKeyError\u001b[0m                                  Traceback (most recent call last)",
      "File \u001b[1;32mc:\\Users\\DHYAN\\anaconda3\\Lib\\site-packages\\pandas\\core\\indexes\\base.py:3805\u001b[0m, in \u001b[0;36mIndex.get_loc\u001b[1;34m(self, key)\u001b[0m\n\u001b[0;32m   3804\u001b[0m \u001b[38;5;28;01mtry\u001b[39;00m:\n\u001b[1;32m-> 3805\u001b[0m     \u001b[38;5;28;01mreturn\u001b[39;00m \u001b[38;5;28mself\u001b[39m\u001b[38;5;241m.\u001b[39m_engine\u001b[38;5;241m.\u001b[39mget_loc(casted_key)\n\u001b[0;32m   3806\u001b[0m \u001b[38;5;28;01mexcept\u001b[39;00m \u001b[38;5;167;01mKeyError\u001b[39;00m \u001b[38;5;28;01mas\u001b[39;00m err:\n",
      "File \u001b[1;32mindex.pyx:167\u001b[0m, in \u001b[0;36mpandas._libs.index.IndexEngine.get_loc\u001b[1;34m()\u001b[0m\n",
      "File \u001b[1;32mindex.pyx:196\u001b[0m, in \u001b[0;36mpandas._libs.index.IndexEngine.get_loc\u001b[1;34m()\u001b[0m\n",
      "File \u001b[1;32mpandas\\\\_libs\\\\hashtable_class_helper.pxi:7081\u001b[0m, in \u001b[0;36mpandas._libs.hashtable.PyObjectHashTable.get_item\u001b[1;34m()\u001b[0m\n",
      "File \u001b[1;32mpandas\\\\_libs\\\\hashtable_class_helper.pxi:7089\u001b[0m, in \u001b[0;36mpandas._libs.hashtable.PyObjectHashTable.get_item\u001b[1;34m()\u001b[0m\n",
      "\u001b[1;31mKeyError\u001b[0m: 'content'",
      "\nThe above exception was the direct cause of the following exception:\n",
      "\u001b[1;31mKeyError\u001b[0m                                  Traceback (most recent call last)",
      "Cell \u001b[1;32mIn[98], line 1\u001b[0m\n\u001b[1;32m----> 1\u001b[0m X \u001b[38;5;241m=\u001b[39m news_df[\u001b[38;5;124m'\u001b[39m\u001b[38;5;124mcontent\u001b[39m\u001b[38;5;124m'\u001b[39m]\u001b[38;5;241m.\u001b[39mvalues\n\u001b[0;32m      2\u001b[0m y \u001b[38;5;241m=\u001b[39m news_df[\u001b[38;5;124m'\u001b[39m\u001b[38;5;124mlabel\u001b[39m\u001b[38;5;124m'\u001b[39m]\u001b[38;5;241m.\u001b[39mvalues\n",
      "File \u001b[1;32mc:\\Users\\DHYAN\\anaconda3\\Lib\\site-packages\\pandas\\core\\frame.py:4102\u001b[0m, in \u001b[0;36mDataFrame.__getitem__\u001b[1;34m(self, key)\u001b[0m\n\u001b[0;32m   4100\u001b[0m \u001b[38;5;28;01mif\u001b[39;00m \u001b[38;5;28mself\u001b[39m\u001b[38;5;241m.\u001b[39mcolumns\u001b[38;5;241m.\u001b[39mnlevels \u001b[38;5;241m>\u001b[39m \u001b[38;5;241m1\u001b[39m:\n\u001b[0;32m   4101\u001b[0m     \u001b[38;5;28;01mreturn\u001b[39;00m \u001b[38;5;28mself\u001b[39m\u001b[38;5;241m.\u001b[39m_getitem_multilevel(key)\n\u001b[1;32m-> 4102\u001b[0m indexer \u001b[38;5;241m=\u001b[39m \u001b[38;5;28mself\u001b[39m\u001b[38;5;241m.\u001b[39mcolumns\u001b[38;5;241m.\u001b[39mget_loc(key)\n\u001b[0;32m   4103\u001b[0m \u001b[38;5;28;01mif\u001b[39;00m is_integer(indexer):\n\u001b[0;32m   4104\u001b[0m     indexer \u001b[38;5;241m=\u001b[39m [indexer]\n",
      "File \u001b[1;32mc:\\Users\\DHYAN\\anaconda3\\Lib\\site-packages\\pandas\\core\\indexes\\base.py:3812\u001b[0m, in \u001b[0;36mIndex.get_loc\u001b[1;34m(self, key)\u001b[0m\n\u001b[0;32m   3807\u001b[0m     \u001b[38;5;28;01mif\u001b[39;00m \u001b[38;5;28misinstance\u001b[39m(casted_key, \u001b[38;5;28mslice\u001b[39m) \u001b[38;5;129;01mor\u001b[39;00m (\n\u001b[0;32m   3808\u001b[0m         \u001b[38;5;28misinstance\u001b[39m(casted_key, abc\u001b[38;5;241m.\u001b[39mIterable)\n\u001b[0;32m   3809\u001b[0m         \u001b[38;5;129;01mand\u001b[39;00m \u001b[38;5;28many\u001b[39m(\u001b[38;5;28misinstance\u001b[39m(x, \u001b[38;5;28mslice\u001b[39m) \u001b[38;5;28;01mfor\u001b[39;00m x \u001b[38;5;129;01min\u001b[39;00m casted_key)\n\u001b[0;32m   3810\u001b[0m     ):\n\u001b[0;32m   3811\u001b[0m         \u001b[38;5;28;01mraise\u001b[39;00m InvalidIndexError(key)\n\u001b[1;32m-> 3812\u001b[0m     \u001b[38;5;28;01mraise\u001b[39;00m \u001b[38;5;167;01mKeyError\u001b[39;00m(key) \u001b[38;5;28;01mfrom\u001b[39;00m \u001b[38;5;21;01merr\u001b[39;00m\n\u001b[0;32m   3813\u001b[0m \u001b[38;5;28;01mexcept\u001b[39;00m \u001b[38;5;167;01mTypeError\u001b[39;00m:\n\u001b[0;32m   3814\u001b[0m     \u001b[38;5;66;03m# If we have a listlike key, _check_indexing_error will raise\u001b[39;00m\n\u001b[0;32m   3815\u001b[0m     \u001b[38;5;66;03m#  InvalidIndexError. Otherwise we fall through and re-raise\u001b[39;00m\n\u001b[0;32m   3816\u001b[0m     \u001b[38;5;66;03m#  the TypeError.\u001b[39;00m\n\u001b[0;32m   3817\u001b[0m     \u001b[38;5;28mself\u001b[39m\u001b[38;5;241m.\u001b[39m_check_indexing_error(key)\n",
      "\u001b[1;31mKeyError\u001b[0m: 'content'"
     ]
    }
   ],
   "source": [
    "X = news_df['content'].values\n",
    "y = news_df['label'].values\n"
   ]
  },
  {
   "cell_type": "code",
   "execution_count": 82,
   "id": "e60f95d1",
   "metadata": {},
   "outputs": [
    {
     "name": "stdout",
     "output_type": "stream",
     "text": [
      "['{\"@context\":{\"@language\":\"en\"', '@vocab:\"https://schema.org/\"', 'citeAs:\"cr:citeAs\"', 'column:\"cr:column\"', 'conformsTo:\"dct:conformsTo\"', 'cr:\"http://mlcommons.org/croissant/\"', 'data:{\"@id\":\"cr:data\"', '@type:\"@json\"}', 'dataBiases:\"cr:dataBiases\"', 'dataCollection:\"cr:dataCollection\"', 'dataType:{\"@id\":\"cr:dataType\"', '@type:\"@vocab\"}', 'dct:\"http://purl.org/dc/terms/\"', 'extract:\"cr:extract\"', 'field:\"cr:field\"', 'fileProperty:\"cr:fileProperty\"', 'fileObject:\"cr:fileObject\"', 'fileSet:\"cr:fileSet\"', 'format:\"cr:format\"', 'includes:\"cr:includes\"', 'isEnumeration:\"cr:isEnumeration\"', 'isLiveDataset:\"cr:isLiveDataset\"', 'jsonPath:\"cr:jsonPath\"', 'key:\"cr:key\"', 'md5:\"cr:md5\"', 'parentField:\"cr:parentField\"', 'path:\"cr:path\"', 'personalSensitiveInformation:\"cr:personalSensitiveInformation\"', 'recordSet:\"cr:recordSet\"', 'references:\"cr:references\"', 'regex:\"cr:regex\"', 'repeated:\"cr:repeated\"', 'replace:\"cr:replace\"', 'sc:\"https://schema.org/\"', 'separator:\"cr:separator\"', 'source:\"cr:source\"', 'subField:\"cr:subField\"', 'transform:\"cr:transform\"', 'wd:\"https://www.wikidata.org/wiki/\"}', 'alternateName:\"\"', 'conformsTo:\"http://mlcommons.org/croissant/1.0\"', 'license:{\"@type\":\"sc:CreativeWork\"', 'name:\"MIT\"', 'url:\"https://www.mit.edu/~amini/LICENSE.md\"}', 'distribution:[{\"contentUrl\":\"https://www.kaggle.com/api/v1/datasets/download/noorsaeed/scam-detection-fake-news-labelled-dataset?datasetVersionNumber=1\"', 'contentSize:\"37.041 MB\"', 'md5:\"16oFVnZcP1GVTXvRBatVJQ==\"', 'encodingFormat:\"application/zip\"', '@id:\"archive.zip\"', '@type:\"cr:FileObject\"', 'name:\"archive.zip\"', 'description:\"Archive containing all the contents of the Scam Detection | Fake News Labelled  Dataset dataset\"}', '{\"contentUrl\":\"train.csv\"', 'containedIn:{\"@id\":\"archive.zip\"}', 'encodingFormat:\"text/csv\"', '@id:\"train.csv_fileobject\"', '@type:\"cr:FileObject\".1', 'name:\"train.csv\"}]', 'recordSet:[{\"field\":[{\"dataType\":[\"sc:Text\"]', 'source:{\"fileObject\":{\"@id\":\"train.csv_fileobject\"}', 'extract:{\"column\":\"id\"}}', '@id:\"train.csv/id\"', '@type:\"cr:Field\"', 'name:\"id\"}', '{\"dataType\":[\"sc:Text\"]', 'source:{\"fileObject\":{\"@id\":\"train.csv_fileobject\"}.1', 'extract:{\"column\":\"title\"}}', '@id:\"train.csv/title\"', '@type:\"cr:Field\".1', 'name:\"title\"}', '{\"dataType\":[\"sc:Text\"].1', 'source:{\"fileObject\":{\"@id\":\"train.csv_fileobject\"}.2', 'extract:{\"column\":\"author\"}}', '@id:\"train.csv/author\"', '@type:\"cr:Field\".2', 'name:\"author\"}', '{\"dataType\":[\"sc:Text\"].2', 'source:{\"fileObject\":{\"@id\":\"train.csv_fileobject\"}.3', 'extract:{\"column\":\"text\"}}', '@id:\"train.csv/text\"', '@type:\"cr:Field\".3', 'name:\"text\"}', '{\"dataType\":[\"sc:Integer\"]', 'source:{\"fileObject\":{\"@id\":\"train.csv_fileobject\"}.4', 'extract:{\"column\":\"label\"}}', '@id:\"train.csv/label\"', '@type:\"cr:Field\".4', 'name:\"label\"}]', '@id:\"train.csv\"', '@type:\"cr:RecordSet\"', 'name:\"train.csv\"}].1', 'version:1', 'keywords:[]', 'isAccessibleForFree:true', 'includedInDataCatalog:{\"@type\":\"sc:DataCatalog\"', 'name:\"Kaggle\"', 'url:\"https://www.kaggle.com\"}', 'creator:{\"@type\":\"sc:Person\"', 'name:\"Noor Saeed\"', 'url:\"/noorsaeed\"', 'image:\"https://storage.googleapis.com/kaggle-avatars/thumbnails/13209942-kg.jpg?t=2024-04-11-07-28-34\"}', 'publisher:{\"@type\":\"sc:Organization\"', 'name:\"Kaggle\".1', 'url:\"https://www.kaggle.com/organizations/kaggle\"', 'image:\"https://storage.googleapis.com/kaggle-organizations/4/thumbnail.png\"}', 'thumbnailUrl:\"https://storage.googleapis.com/kaggle-datasets-images/new-version-temp-images/default-backgrounds-67.png-13209942/dataset-card.png\"', 'dateModified:\"2024-04-25T15:21:59.793\"', 'datePublished:\"2024-04-25T15:21:59.793\"', '@type:\"sc:Dataset\"', 'name:\"Scam Detection | Fake News Labelled  Dataset\"', 'url:\"https://www.kaggle.com/datasets/noorsaeed/scam-detection-fake-news-labelled-dataset/versions/1\"', 'description:\"\"}']\n"
     ]
    }
   ],
   "source": [
    "print(news_df.columns.tolist())\n"
   ]
  },
  {
   "cell_type": "markdown",
   "id": "7a4c1ab4",
   "metadata": {},
   "source": [
    "# Splitting the dataset to training & test data"
   ]
  },
  {
   "cell_type": "code",
   "execution_count": 88,
   "id": "12a0d4eb",
   "metadata": {},
   "outputs": [
    {
     "name": "stdout",
     "output_type": "stream",
     "text": [
      "['{\"@context\":{\"@language\":\"en\"', '@vocab:\"https://schema.org/\"', 'citeAs:\"cr:citeAs\"', 'column:\"cr:column\"', 'conformsTo:\"dct:conformsTo\"', 'cr:\"http://mlcommons.org/croissant/\"', 'data:{\"@id\":\"cr:data\"', '@type:\"@json\"}', 'dataBiases:\"cr:dataBiases\"', 'dataCollection:\"cr:dataCollection\"', 'dataType:{\"@id\":\"cr:dataType\"', '@type:\"@vocab\"}', 'dct:\"http://purl.org/dc/terms/\"', 'extract:\"cr:extract\"', 'field:\"cr:field\"', 'fileProperty:\"cr:fileProperty\"', 'fileObject:\"cr:fileObject\"', 'fileSet:\"cr:fileSet\"', 'format:\"cr:format\"', 'includes:\"cr:includes\"', 'isEnumeration:\"cr:isEnumeration\"', 'isLiveDataset:\"cr:isLiveDataset\"', 'jsonPath:\"cr:jsonPath\"', 'key:\"cr:key\"', 'md5:\"cr:md5\"', 'parentField:\"cr:parentField\"', 'path:\"cr:path\"', 'personalSensitiveInformation:\"cr:personalSensitiveInformation\"', 'recordSet:\"cr:recordSet\"', 'references:\"cr:references\"', 'regex:\"cr:regex\"', 'repeated:\"cr:repeated\"', 'replace:\"cr:replace\"', 'sc:\"https://schema.org/\"', 'separator:\"cr:separator\"', 'source:\"cr:source\"', 'subField:\"cr:subField\"', 'transform:\"cr:transform\"', 'wd:\"https://www.wikidata.org/wiki/\"}', 'alternateName:\"\"', 'conformsTo:\"http://mlcommons.org/croissant/1.0\"', 'license:{\"@type\":\"sc:CreativeWork\"', 'name:\"MIT\"', 'url:\"https://www.mit.edu/~amini/LICENSE.md\"}', 'distribution:[{\"contentUrl\":\"https://www.kaggle.com/api/v1/datasets/download/noorsaeed/scam-detection-fake-news-labelled-dataset?datasetVersionNumber=1\"', 'contentSize:\"37.041 MB\"', 'md5:\"16oFVnZcP1GVTXvRBatVJQ==\"', 'encodingFormat:\"application/zip\"', '@id:\"archive.zip\"', '@type:\"cr:FileObject\"', 'name:\"archive.zip\"', 'description:\"Archive containing all the contents of the Scam Detection | Fake News Labelled  Dataset dataset\"}', '{\"contentUrl\":\"train.csv\"', 'containedIn:{\"@id\":\"archive.zip\"}', 'encodingFormat:\"text/csv\"', '@id:\"train.csv_fileobject\"', '@type:\"cr:FileObject\".1', 'name:\"train.csv\"}]', 'recordSet:[{\"field\":[{\"dataType\":[\"sc:Text\"]', 'source:{\"fileObject\":{\"@id\":\"train.csv_fileobject\"}', 'extract:{\"column\":\"id\"}}', '@id:\"train.csv/id\"', '@type:\"cr:Field\"', 'name:\"id\"}', '{\"dataType\":[\"sc:Text\"]', 'source:{\"fileObject\":{\"@id\":\"train.csv_fileobject\"}.1', 'extract:{\"column\":\"title\"}}', '@id:\"train.csv/title\"', '@type:\"cr:Field\".1', 'name:\"title\"}', '{\"dataType\":[\"sc:Text\"].1', 'source:{\"fileObject\":{\"@id\":\"train.csv_fileobject\"}.2', 'extract:{\"column\":\"author\"}}', '@id:\"train.csv/author\"', '@type:\"cr:Field\".2', 'name:\"author\"}', '{\"dataType\":[\"sc:Text\"].2', 'source:{\"fileObject\":{\"@id\":\"train.csv_fileobject\"}.3', 'extract:{\"column\":\"text\"}}', '@id:\"train.csv/text\"', '@type:\"cr:Field\".3', 'name:\"text\"}', '{\"dataType\":[\"sc:Integer\"]', 'source:{\"fileObject\":{\"@id\":\"train.csv_fileobject\"}.4', 'extract:{\"column\":\"label\"}}', '@id:\"train.csv/label\"', '@type:\"cr:Field\".4', 'name:\"label\"}]', '@id:\"train.csv\"', '@type:\"cr:RecordSet\"', 'name:\"train.csv\"}].1', 'version:1', 'keywords:[]', 'isAccessibleForFree:true', 'includedInDataCatalog:{\"@type\":\"sc:DataCatalog\"', 'name:\"Kaggle\"', 'url:\"https://www.kaggle.com\"}', 'creator:{\"@type\":\"sc:Person\"', 'name:\"Noor Saeed\"', 'url:\"/noorsaeed\"', 'image:\"https://storage.googleapis.com/kaggle-avatars/thumbnails/13209942-kg.jpg?t=2024-04-11-07-28-34\"}', 'publisher:{\"@type\":\"sc:Organization\"', 'name:\"Kaggle\".1', 'url:\"https://www.kaggle.com/organizations/kaggle\"', 'image:\"https://storage.googleapis.com/kaggle-organizations/4/thumbnail.png\"}', 'thumbnailUrl:\"https://storage.googleapis.com/kaggle-datasets-images/new-version-temp-images/default-backgrounds-67.png-13209942/dataset-card.png\"', 'dateModified:\"2024-04-25T15:21:59.793\"', 'datePublished:\"2024-04-25T15:21:59.793\"', '@type:\"sc:Dataset\"', 'name:\"Scam Detection | Fake News Labelled  Dataset\"', 'url:\"https://www.kaggle.com/datasets/noorsaeed/scam-detection-fake-news-labelled-dataset/versions/1\"', 'description:\"\"}']\n"
     ]
    }
   ],
   "source": [
    "print(news_df.columns.tolist())\n"
   ]
  },
  {
   "cell_type": "code",
   "execution_count": 95,
   "id": "6402a62e",
   "metadata": {},
   "outputs": [
    {
     "ename": "NameError",
     "evalue": "name 'X_train' is not defined",
     "output_type": "error",
     "traceback": [
      "\u001b[1;31m---------------------------------------------------------------------------\u001b[0m",
      "\u001b[1;31mNameError\u001b[0m                                 Traceback (most recent call last)",
      "Cell \u001b[1;32mIn[95], line 1\u001b[0m\n\u001b[1;32m----> 1\u001b[0m \u001b[38;5;28mprint\u001b[39m(X_train\u001b[38;5;241m.\u001b[39mshape)\n",
      "\u001b[1;31mNameError\u001b[0m: name 'X_train' is not defined"
     ]
    }
   ],
   "source": [
    "print(X_train.shape)\n"
   ]
  },
  {
   "cell_type": "code",
   "execution_count": null,
   "id": "83960b57",
   "metadata": {},
   "outputs": [],
   "source": []
  },
  {
   "cell_type": "markdown",
   "id": "7a41062a",
   "metadata": {},
   "source": [
    "# Training the Model: Logistic Regression"
   ]
  },
  {
   "cell_type": "code",
   "execution_count": 96,
   "id": "f22c5fa7",
   "metadata": {},
   "outputs": [
    {
     "ename": "NameError",
     "evalue": "name 'X_train' is not defined",
     "output_type": "error",
     "traceback": [
      "\u001b[1;31m---------------------------------------------------------------------------\u001b[0m",
      "\u001b[1;31mNameError\u001b[0m                                 Traceback (most recent call last)",
      "Cell \u001b[1;32mIn[96], line 2\u001b[0m\n\u001b[0;32m      1\u001b[0m model \u001b[38;5;241m=\u001b[39m LogisticRegression()\n\u001b[1;32m----> 2\u001b[0m model\u001b[38;5;241m.\u001b[39mfit(X_train,Y_train)\n",
      "\u001b[1;31mNameError\u001b[0m: name 'X_train' is not defined"
     ]
    }
   ],
   "source": [
    "model = LogisticRegression()\n",
    "model.fit(X_train,Y_train)"
   ]
  },
  {
   "cell_type": "code",
   "execution_count": 103,
   "id": "7800d38d",
   "metadata": {},
   "outputs": [
    {
     "ename": "NameError",
     "evalue": "name 'X_train' is not defined",
     "output_type": "error",
     "traceback": [
      "\u001b[1;31m---------------------------------------------------------------------------\u001b[0m",
      "\u001b[1;31mNameError\u001b[0m                                 Traceback (most recent call last)",
      "Cell \u001b[1;32mIn[103], line 2\u001b[0m\n\u001b[0;32m      1\u001b[0m \u001b[38;5;66;03m# on training set\u001b[39;00m\n\u001b[1;32m----> 2\u001b[0m train_y_pred \u001b[38;5;241m=\u001b[39m model\u001b[38;5;241m.\u001b[39mpredict(X_train)\n\u001b[0;32m      3\u001b[0m \u001b[38;5;28mprint\u001b[39m(accuracy_score(train_y_pred,Y_train))\n",
      "\u001b[1;31mNameError\u001b[0m: name 'X_train' is not defined"
     ]
    }
   ],
   "source": [
    "# on training set\n",
    "train_y_pred = model.predict(X_train)\n",
    "print(accuracy_score(train_y_pred,Y_train))"
   ]
  },
  {
   "cell_type": "code",
   "execution_count": 102,
   "id": "bc974492",
   "metadata": {},
   "outputs": [
    {
     "ename": "NameError",
     "evalue": "name 'X_test' is not defined",
     "output_type": "error",
     "traceback": [
      "\u001b[1;31m---------------------------------------------------------------------------\u001b[0m",
      "\u001b[1;31mNameError\u001b[0m                                 Traceback (most recent call last)",
      "Cell \u001b[1;32mIn[102], line 2\u001b[0m\n\u001b[0;32m      1\u001b[0m \u001b[38;5;66;03m# on testing set\u001b[39;00m\n\u001b[1;32m----> 2\u001b[0m testing_y_pred \u001b[38;5;241m=\u001b[39m model\u001b[38;5;241m.\u001b[39mpredict(X_test)\n\u001b[0;32m      3\u001b[0m \u001b[38;5;28mprint\u001b[39m(accuracy_score(testing_y_pred,Y_test))\n",
      "\u001b[1;31mNameError\u001b[0m: name 'X_test' is not defined"
     ]
    }
   ],
   "source": [
    "# on testing set\n",
    "testing_y_pred = model.predict(X_test)\n",
    "print(accuracy_score(testing_y_pred,Y_test))"
   ]
  },
  {
   "cell_type": "markdown",
   "id": "e316cc88",
   "metadata": {},
   "source": [
    "# Detection System"
   ]
  },
  {
   "cell_type": "code",
   "execution_count": 101,
   "id": "882436d7",
   "metadata": {},
   "outputs": [
    {
     "ename": "NameError",
     "evalue": "name 'X_test' is not defined",
     "output_type": "error",
     "traceback": [
      "\u001b[1;31m---------------------------------------------------------------------------\u001b[0m",
      "\u001b[1;31mNameError\u001b[0m                                 Traceback (most recent call last)",
      "Cell \u001b[1;32mIn[101], line 1\u001b[0m\n\u001b[1;32m----> 1\u001b[0m input_data \u001b[38;5;241m=\u001b[39m X_test[\u001b[38;5;241m10\u001b[39m]\n\u001b[0;32m      2\u001b[0m prediction \u001b[38;5;241m=\u001b[39m model\u001b[38;5;241m.\u001b[39mpredict(input_data)\n",
      "\u001b[1;31mNameError\u001b[0m: name 'X_test' is not defined"
     ]
    }
   ],
   "source": [
    "input_data = X_test[10]\n",
    "prediction = model.predict(input_data)"
   ]
  },
  {
   "cell_type": "code",
   "execution_count": 100,
   "id": "ecad7136",
   "metadata": {},
   "outputs": [
    {
     "ename": "NameError",
     "evalue": "name 'prediction' is not defined",
     "output_type": "error",
     "traceback": [
      "\u001b[1;31m---------------------------------------------------------------------------\u001b[0m",
      "\u001b[1;31mNameError\u001b[0m                                 Traceback (most recent call last)",
      "Cell \u001b[1;32mIn[100], line 1\u001b[0m\n\u001b[1;32m----> 1\u001b[0m \u001b[38;5;28;01mif\u001b[39;00m prediction[\u001b[38;5;241m0\u001b[39m] \u001b[38;5;241m==\u001b[39m \u001b[38;5;241m0\u001b[39m:\n\u001b[0;32m      2\u001b[0m     \u001b[38;5;28mprint\u001b[39m(\u001b[38;5;124m'\u001b[39m\u001b[38;5;124mThe News Is Real\u001b[39m\u001b[38;5;124m'\u001b[39m)\n\u001b[0;32m      3\u001b[0m \u001b[38;5;28;01melse\u001b[39;00m:\n",
      "\u001b[1;31mNameError\u001b[0m: name 'prediction' is not defined"
     ]
    }
   ],
   "source": [
    "if prediction[0] == 0:\n",
    "    print('The News Is Real')\n",
    "else:\n",
    "    print('The News is Fake')"
   ]
  },
  {
   "cell_type": "code",
   "execution_count": 99,
   "id": "36fba43f",
   "metadata": {},
   "outputs": [
    {
     "ename": "KeyError",
     "evalue": "'content'",
     "output_type": "error",
     "traceback": [
      "\u001b[1;31m---------------------------------------------------------------------------\u001b[0m",
      "\u001b[1;31mKeyError\u001b[0m                                  Traceback (most recent call last)",
      "File \u001b[1;32mc:\\Users\\DHYAN\\anaconda3\\Lib\\site-packages\\pandas\\core\\indexes\\base.py:3805\u001b[0m, in \u001b[0;36mIndex.get_loc\u001b[1;34m(self, key)\u001b[0m\n\u001b[0;32m   3804\u001b[0m \u001b[38;5;28;01mtry\u001b[39;00m:\n\u001b[1;32m-> 3805\u001b[0m     \u001b[38;5;28;01mreturn\u001b[39;00m \u001b[38;5;28mself\u001b[39m\u001b[38;5;241m.\u001b[39m_engine\u001b[38;5;241m.\u001b[39mget_loc(casted_key)\n\u001b[0;32m   3806\u001b[0m \u001b[38;5;28;01mexcept\u001b[39;00m \u001b[38;5;167;01mKeyError\u001b[39;00m \u001b[38;5;28;01mas\u001b[39;00m err:\n",
      "File \u001b[1;32mindex.pyx:167\u001b[0m, in \u001b[0;36mpandas._libs.index.IndexEngine.get_loc\u001b[1;34m()\u001b[0m\n",
      "File \u001b[1;32mindex.pyx:196\u001b[0m, in \u001b[0;36mpandas._libs.index.IndexEngine.get_loc\u001b[1;34m()\u001b[0m\n",
      "File \u001b[1;32mpandas\\\\_libs\\\\hashtable_class_helper.pxi:7081\u001b[0m, in \u001b[0;36mpandas._libs.hashtable.PyObjectHashTable.get_item\u001b[1;34m()\u001b[0m\n",
      "File \u001b[1;32mpandas\\\\_libs\\\\hashtable_class_helper.pxi:7089\u001b[0m, in \u001b[0;36mpandas._libs.hashtable.PyObjectHashTable.get_item\u001b[1;34m()\u001b[0m\n",
      "\u001b[1;31mKeyError\u001b[0m: 'content'",
      "\nThe above exception was the direct cause of the following exception:\n",
      "\u001b[1;31mKeyError\u001b[0m                                  Traceback (most recent call last)",
      "Cell \u001b[1;32mIn[99], line 1\u001b[0m\n\u001b[1;32m----> 1\u001b[0m news_df[\u001b[38;5;124m'\u001b[39m\u001b[38;5;124mcontent\u001b[39m\u001b[38;5;124m'\u001b[39m][\u001b[38;5;241m2\u001b[39m]\n",
      "File \u001b[1;32mc:\\Users\\DHYAN\\anaconda3\\Lib\\site-packages\\pandas\\core\\frame.py:4102\u001b[0m, in \u001b[0;36mDataFrame.__getitem__\u001b[1;34m(self, key)\u001b[0m\n\u001b[0;32m   4100\u001b[0m \u001b[38;5;28;01mif\u001b[39;00m \u001b[38;5;28mself\u001b[39m\u001b[38;5;241m.\u001b[39mcolumns\u001b[38;5;241m.\u001b[39mnlevels \u001b[38;5;241m>\u001b[39m \u001b[38;5;241m1\u001b[39m:\n\u001b[0;32m   4101\u001b[0m     \u001b[38;5;28;01mreturn\u001b[39;00m \u001b[38;5;28mself\u001b[39m\u001b[38;5;241m.\u001b[39m_getitem_multilevel(key)\n\u001b[1;32m-> 4102\u001b[0m indexer \u001b[38;5;241m=\u001b[39m \u001b[38;5;28mself\u001b[39m\u001b[38;5;241m.\u001b[39mcolumns\u001b[38;5;241m.\u001b[39mget_loc(key)\n\u001b[0;32m   4103\u001b[0m \u001b[38;5;28;01mif\u001b[39;00m is_integer(indexer):\n\u001b[0;32m   4104\u001b[0m     indexer \u001b[38;5;241m=\u001b[39m [indexer]\n",
      "File \u001b[1;32mc:\\Users\\DHYAN\\anaconda3\\Lib\\site-packages\\pandas\\core\\indexes\\base.py:3812\u001b[0m, in \u001b[0;36mIndex.get_loc\u001b[1;34m(self, key)\u001b[0m\n\u001b[0;32m   3807\u001b[0m     \u001b[38;5;28;01mif\u001b[39;00m \u001b[38;5;28misinstance\u001b[39m(casted_key, \u001b[38;5;28mslice\u001b[39m) \u001b[38;5;129;01mor\u001b[39;00m (\n\u001b[0;32m   3808\u001b[0m         \u001b[38;5;28misinstance\u001b[39m(casted_key, abc\u001b[38;5;241m.\u001b[39mIterable)\n\u001b[0;32m   3809\u001b[0m         \u001b[38;5;129;01mand\u001b[39;00m \u001b[38;5;28many\u001b[39m(\u001b[38;5;28misinstance\u001b[39m(x, \u001b[38;5;28mslice\u001b[39m) \u001b[38;5;28;01mfor\u001b[39;00m x \u001b[38;5;129;01min\u001b[39;00m casted_key)\n\u001b[0;32m   3810\u001b[0m     ):\n\u001b[0;32m   3811\u001b[0m         \u001b[38;5;28;01mraise\u001b[39;00m InvalidIndexError(key)\n\u001b[1;32m-> 3812\u001b[0m     \u001b[38;5;28;01mraise\u001b[39;00m \u001b[38;5;167;01mKeyError\u001b[39;00m(key) \u001b[38;5;28;01mfrom\u001b[39;00m \u001b[38;5;21;01merr\u001b[39;00m\n\u001b[0;32m   3813\u001b[0m \u001b[38;5;28;01mexcept\u001b[39;00m \u001b[38;5;167;01mTypeError\u001b[39;00m:\n\u001b[0;32m   3814\u001b[0m     \u001b[38;5;66;03m# If we have a listlike key, _check_indexing_error will raise\u001b[39;00m\n\u001b[0;32m   3815\u001b[0m     \u001b[38;5;66;03m#  InvalidIndexError. Otherwise we fall through and re-raise\u001b[39;00m\n\u001b[0;32m   3816\u001b[0m     \u001b[38;5;66;03m#  the TypeError.\u001b[39;00m\n\u001b[0;32m   3817\u001b[0m     \u001b[38;5;28mself\u001b[39m\u001b[38;5;241m.\u001b[39m_check_indexing_error(key)\n",
      "\u001b[1;31mKeyError\u001b[0m: 'content'"
     ]
    }
   ],
   "source": [
    "news_df['content'][2]"
   ]
  },
  {
   "cell_type": "code",
   "execution_count": null,
   "id": "33412466",
   "metadata": {},
   "outputs": [],
   "source": []
  }
 ],
 "metadata": {
  "kernelspec": {
   "display_name": "base",
   "language": "python",
   "name": "python3"
  },
  "language_info": {
   "codemirror_mode": {
    "name": "ipython",
    "version": 3
   },
   "file_extension": ".py",
   "mimetype": "text/x-python",
   "name": "python",
   "nbconvert_exporter": "python",
   "pygments_lexer": "ipython3",
   "version": "3.12.4"
  }
 },
 "nbformat": 4,
 "nbformat_minor": 5
}
